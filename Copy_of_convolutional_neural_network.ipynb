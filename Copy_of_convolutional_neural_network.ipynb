{
 "cells": [
  {
   "cell_type": "markdown",
   "metadata": {
    "id": "3DR-eO17geWu"
   },
   "source": [
    "# Convolutional Neural Network"
   ]
  },
  {
   "cell_type": "markdown",
   "metadata": {
    "id": "EMefrVPCg-60"
   },
   "source": [
    "### Importing the libraries"
   ]
  },
  {
   "cell_type": "code",
   "execution_count": null,
   "metadata": {
    "id": "JKbgC4_8PG3X"
   },
   "outputs": [],
   "source": [
    "import tensorflow as tf\n",
    "from keras.preprocessing.image import ImageDataGenerator"
   ]
  },
  {
   "cell_type": "code",
   "execution_count": 2,
   "metadata": {
    "colab": {
     "base_uri": "https://localhost:8080/",
     "height": 35
    },
    "id": "L_95JUoePplq",
    "outputId": "05cd324f-e8da-46ac-f5b9-b1faa52f2452"
   },
   "outputs": [
    {
     "data": {
      "text/plain": [
       "'2.5.0'"
      ]
     },
     "execution_count": 2,
     "metadata": {},
     "output_type": "execute_result"
    }
   ],
   "source": [
    "tf.__version__"
   ]
  },
  {
   "cell_type": "markdown",
   "metadata": {
    "id": "oxQxCBWyoGPE"
   },
   "source": [
    "## Part 1 - Data Preprocessing"
   ]
  },
  {
   "cell_type": "markdown",
   "metadata": {
    "id": "MvE-heJNo3GG"
   },
   "source": [
    "### Preprocessing the Training set"
   ]
  },
  {
   "cell_type": "code",
   "execution_count": 3,
   "metadata": {
    "colab": {
     "base_uri": "https://localhost:8080/"
    },
    "id": "1QB87d7CSVr_",
    "outputId": "1452c7ef-29d9-4e8d-b60d-de1824fd142e"
   },
   "outputs": [
    {
     "name": "stdout",
     "output_type": "stream",
     "text": [
      "Found 8000 images belonging to 2 classes.\n"
     ]
    }
   ],
   "source": [
    "\n",
    "train_datagen = ImageDataGenerator(\n",
    "        rescale=1./255,\n",
    "        shear_range=0.2,\n",
    "        zoom_range=0.2,\n",
    "        horizontal_flip=True)\n",
    "training_set = train_datagen.flow_from_directory(\n",
    "       'dataset/training_set',\n",
    "        target_size=(64,64),\n",
    "        batch_size=32,\n",
    "        class_mode='binary')"
   ]
  },
  {
   "cell_type": "markdown",
   "metadata": {
    "id": "mrCMmGw9pHys"
   },
   "source": [
    "### Preprocessing the Test set"
   ]
  },
  {
   "cell_type": "code",
   "execution_count": 4,
   "metadata": {
    "colab": {
     "base_uri": "https://localhost:8080/"
    },
    "id": "oMr3BrmbT4H6",
    "outputId": "25841dca-7c91-4254-c20c-ba178bca0428"
   },
   "outputs": [
    {
     "name": "stdout",
     "output_type": "stream",
     "text": [
      "Found 2000 images belonging to 2 classes.\n"
     ]
    }
   ],
   "source": [
    "test_datagen = ImageDataGenerator(rescale=1./255)\n",
    "test_set = test_datagen.flow_from_directory(\n",
    "        'dataset/test_set',\n",
    "        target_size=(64, 64),\n",
    "        batch_size=32,\n",
    "        class_mode='binary')"
   ]
  },
  {
   "cell_type": "markdown",
   "metadata": {
    "id": "af8O4l90gk7B"
   },
   "source": [
    "## Part 2 - Building the CNN"
   ]
  },
  {
   "cell_type": "markdown",
   "metadata": {
    "id": "ces1gXY2lmoX"
   },
   "source": [
    "### Initialising the CNN"
   ]
  },
  {
   "cell_type": "code",
   "execution_count": 5,
   "metadata": {
    "id": "I36GPC_Hx2UM"
   },
   "outputs": [],
   "source": [
    "cnn = tf.keras.models.Sequential()"
   ]
  },
  {
   "cell_type": "markdown",
   "metadata": {
    "id": "u5YJj_XMl5LF"
   },
   "source": [
    "### Step 1 - Convolution"
   ]
  },
  {
   "cell_type": "code",
   "execution_count": 6,
   "metadata": {
    "id": "ywODn4j8yPKF"
   },
   "outputs": [],
   "source": [
    "cnn.add(tf.keras.layers.Conv2D(filters=32,kernel_size=3,activation='relu',input_shape = [64,64,3]))"
   ]
  },
  {
   "cell_type": "markdown",
   "metadata": {
    "id": "tf87FpvxmNOJ"
   },
   "source": [
    "### Step 2 - Pooling"
   ]
  },
  {
   "cell_type": "code",
   "execution_count": 7,
   "metadata": {
    "id": "3dHp5Nbrzhsc"
   },
   "outputs": [],
   "source": [
    "cnn.add(tf.keras.layers.MaxPool2D(pool_size=(2,2),strides=(2,2)))"
   ]
  },
  {
   "cell_type": "markdown",
   "metadata": {
    "id": "xaTOgD8rm4mU"
   },
   "source": [
    "### Adding a second convolutional layer"
   ]
  },
  {
   "cell_type": "code",
   "execution_count": 8,
   "metadata": {
    "id": "OXWcR-fW0fUH"
   },
   "outputs": [],
   "source": [
    "cnn.add(tf.keras.layers.Conv2D(filters=32,kernel_size=3,activation='relu'))\n",
    "cnn.add(tf.keras.layers.MaxPool2D(pool_size=(2,2),strides=(2,2)))"
   ]
  },
  {
   "cell_type": "markdown",
   "metadata": {
    "id": "tmiEuvTunKfk"
   },
   "source": [
    "### Step 3 - Flattening"
   ]
  },
  {
   "cell_type": "code",
   "execution_count": 9,
   "metadata": {
    "id": "lEgOo__S01AD"
   },
   "outputs": [],
   "source": [
    "cnn.add(tf.keras.layers.Flatten())"
   ]
  },
  {
   "cell_type": "markdown",
   "metadata": {
    "id": "dAoSECOm203v"
   },
   "source": [
    "### Step 4 - Full Connection"
   ]
  },
  {
   "cell_type": "code",
   "execution_count": 10,
   "metadata": {
    "id": "Be_YgBL31I0d"
   },
   "outputs": [],
   "source": [
    "cnn.add(tf.keras.layers.Dense(units = 128,activation='relu'))"
   ]
  },
  {
   "cell_type": "markdown",
   "metadata": {
    "id": "yTldFvbX28Na"
   },
   "source": [
    "### Step 5 - Output Layer"
   ]
  },
  {
   "cell_type": "code",
   "execution_count": 11,
   "metadata": {
    "id": "D9F1T-cs8gOr"
   },
   "outputs": [],
   "source": [
    "cnn.add(tf.keras.layers.Dense(units =1, activation='sigmoid'))"
   ]
  },
  {
   "cell_type": "markdown",
   "metadata": {
    "id": "D6XkI90snSDl"
   },
   "source": [
    "## Part 3 - Training the CNN"
   ]
  },
  {
   "cell_type": "markdown",
   "metadata": {
    "id": "vfrFQACEnc6i"
   },
   "source": [
    "### Compiling the CNN"
   ]
  },
  {
   "cell_type": "code",
   "execution_count": 12,
   "metadata": {
    "id": "ZZ4d2jAo8ycp"
   },
   "outputs": [],
   "source": [
    "cnn.compile(optimizer = 'adam', loss = 'binary_crossentropy', metrics=['accuracy'])"
   ]
  },
  {
   "cell_type": "markdown",
   "metadata": {
    "id": "ehS-v3MIpX2h"
   },
   "source": [
    "### Training the CNN on the Training set and evaluating it on the Test set"
   ]
  },
  {
   "cell_type": "code",
   "execution_count": 13,
   "metadata": {
    "colab": {
     "base_uri": "https://localhost:8080/",
     "height": 357
    },
    "id": "K17BxR-y9RmF",
    "outputId": "a87ee7f6-82df-4f47-88a6-16c79244154b"
   },
   "outputs": [
    {
     "name": "stdout",
     "output_type": "stream",
     "text": [
      "Epoch 1/25\n",
      "250/250 [==============================] - 284s 1s/step - loss: 0.6876 - accuracy: 0.5554 - val_loss: 0.6555 - val_accuracy: 0.5855\n",
      "Epoch 2/25\n",
      "250/250 [==============================] - 138s 550ms/step - loss: 0.6317 - accuracy: 0.6440 - val_loss: 0.5912 - val_accuracy: 0.7005\n",
      "Epoch 3/25\n",
      "250/250 [==============================] - 74s 296ms/step - loss: 0.5832 - accuracy: 0.6939 - val_loss: 0.5750 - val_accuracy: 0.6915\n",
      "Epoch 4/25\n",
      "250/250 [==============================] - 71s 282ms/step - loss: 0.5464 - accuracy: 0.7199 - val_loss: 0.5554 - val_accuracy: 0.7245\n",
      "Epoch 5/25\n",
      "250/250 [==============================] - 70s 281ms/step - loss: 0.5130 - accuracy: 0.7437 - val_loss: 0.5415 - val_accuracy: 0.7270\n",
      "Epoch 6/25\n",
      "250/250 [==============================] - 70s 280ms/step - loss: 0.4870 - accuracy: 0.7642 - val_loss: 0.5478 - val_accuracy: 0.7180\n",
      "Epoch 7/25\n",
      "250/250 [==============================] - 70s 279ms/step - loss: 0.4764 - accuracy: 0.7663 - val_loss: 0.4944 - val_accuracy: 0.7610\n",
      "Epoch 8/25\n",
      "250/250 [==============================] - 74s 296ms/step - loss: 0.4596 - accuracy: 0.7778 - val_loss: 0.4753 - val_accuracy: 0.7740\n",
      "Epoch 9/25\n",
      "250/250 [==============================] - 71s 282ms/step - loss: 0.4463 - accuracy: 0.7919 - val_loss: 0.4696 - val_accuracy: 0.7755\n",
      "Epoch 10/25\n",
      "250/250 [==============================] - 70s 279ms/step - loss: 0.4306 - accuracy: 0.8005 - val_loss: 0.4829 - val_accuracy: 0.7735\n",
      "Epoch 11/25\n",
      "250/250 [==============================] - 71s 283ms/step - loss: 0.4200 - accuracy: 0.8067 - val_loss: 0.4625 - val_accuracy: 0.7805\n",
      "Epoch 12/25\n",
      "250/250 [==============================] - 70s 279ms/step - loss: 0.4195 - accuracy: 0.8051 - val_loss: 0.4518 - val_accuracy: 0.7920\n",
      "Epoch 13/25\n",
      "250/250 [==============================] - 70s 278ms/step - loss: 0.3974 - accuracy: 0.8169 - val_loss: 0.4591 - val_accuracy: 0.7955\n",
      "Epoch 14/25\n",
      "250/250 [==============================] - 70s 278ms/step - loss: 0.3857 - accuracy: 0.8210 - val_loss: 0.4603 - val_accuracy: 0.7900\n",
      "Epoch 15/25\n",
      "250/250 [==============================] - 71s 282ms/step - loss: 0.3788 - accuracy: 0.8270 - val_loss: 0.4549 - val_accuracy: 0.7985\n",
      "Epoch 16/25\n",
      "250/250 [==============================] - 70s 279ms/step - loss: 0.3724 - accuracy: 0.8311 - val_loss: 0.4513 - val_accuracy: 0.7940\n",
      "Epoch 17/25\n",
      "250/250 [==============================] - 72s 286ms/step - loss: 0.3665 - accuracy: 0.8335 - val_loss: 0.4491 - val_accuracy: 0.7985\n",
      "Epoch 18/25\n",
      "250/250 [==============================] - 76s 303ms/step - loss: 0.3486 - accuracy: 0.8499 - val_loss: 0.4688 - val_accuracy: 0.7885\n",
      "Epoch 19/25\n",
      "250/250 [==============================] - 71s 284ms/step - loss: 0.3435 - accuracy: 0.8435 - val_loss: 0.4860 - val_accuracy: 0.7885\n",
      "Epoch 20/25\n",
      "250/250 [==============================] - 75s 299ms/step - loss: 0.3349 - accuracy: 0.8541 - val_loss: 0.4707 - val_accuracy: 0.7825\n",
      "Epoch 21/25\n",
      "250/250 [==============================] - 74s 295ms/step - loss: 0.3211 - accuracy: 0.8605 - val_loss: 0.4702 - val_accuracy: 0.8015\n",
      "Epoch 22/25\n",
      "250/250 [==============================] - 81s 326ms/step - loss: 0.3199 - accuracy: 0.8574 - val_loss: 0.4844 - val_accuracy: 0.7905\n",
      "Epoch 23/25\n",
      "250/250 [==============================] - 141s 564ms/step - loss: 0.3140 - accuracy: 0.8648 - val_loss: 0.4716 - val_accuracy: 0.7935\n",
      "Epoch 24/25\n",
      "250/250 [==============================] - 96s 384ms/step - loss: 0.2928 - accuracy: 0.8755 - val_loss: 0.5047 - val_accuracy: 0.7965\n",
      "Epoch 25/25\n",
      "250/250 [==============================] - 70s 279ms/step - loss: 0.2885 - accuracy: 0.8724 - val_loss: 0.4888 - val_accuracy: 0.7945\n"
     ]
    },
    {
     "data": {
      "text/plain": [
       "<tensorflow.python.keras.callbacks.History at 0x1905f925430>"
      ]
     },
     "execution_count": 13,
     "metadata": {},
     "output_type": "execute_result"
    }
   ],
   "source": [
    "cnn.fit(x = training_set, validation_data=test_set,epochs = 25)"
   ]
  },
  {
   "cell_type": "markdown",
   "metadata": {
    "id": "U3PZasO0006Z"
   },
   "source": [
    "## Part 4 - Making a single prediction"
   ]
  },
  {
   "cell_type": "code",
   "execution_count": 15,
   "metadata": {
    "id": "HhrgRVHT0EMh"
   },
   "outputs": [],
   "source": [
    "import numpy as np\n",
    "from keras.preprocessing import image\n",
    "test_image = image.load_img('dataset/single_prediction/cat_or_dog_1.jpg', target_size =(64,64))\n",
    "test_image = image.img_to_array(test_image)\n",
    "test_image = np.expand_dims(test_image,axis =0)\n",
    "result = cnn.predict(test_image)\n",
    "training_set.class_indices\n",
    "if result[0][0] == 1:\n",
    "  prediction ='dog'\n",
    "else:\n",
    "  prediction ='cat'  \n"
   ]
  },
  {
   "cell_type": "code",
   "execution_count": 16,
   "metadata": {
    "id": "o_xMgIhU3_bJ"
   },
   "outputs": [
    {
     "name": "stdout",
     "output_type": "stream",
     "text": [
      "dog\n"
     ]
    }
   ],
   "source": [
    "print(prediction)"
   ]
  },
  {
   "cell_type": "code",
   "execution_count": null,
   "metadata": {},
   "outputs": [],
   "source": []
  }
 ],
 "metadata": {
  "colab": {
   "collapsed_sections": [],
   "name": "Copy of convolutional_neural_network.ipynb",
   "provenance": []
  },
  "kernelspec": {
   "display_name": "Python 3",
   "language": "python",
   "name": "python3"
  },
  "language_info": {
   "codemirror_mode": {
    "name": "ipython",
    "version": 3
   },
   "file_extension": ".py",
   "mimetype": "text/x-python",
   "name": "python",
   "nbconvert_exporter": "python",
   "pygments_lexer": "ipython3",
   "version": "3.8.8"
  }
 },
 "nbformat": 4,
 "nbformat_minor": 1
}
